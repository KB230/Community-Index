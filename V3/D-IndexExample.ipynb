{
 "cells": [
  {
   "cell_type": "markdown",
   "id": "4214b0ff-f4ca-4eb2-9223-c51fc0bd4d46",
   "metadata": {},
   "source": [
    "# Data Processing Functions"
   ]
  },
  {
   "cell_type": "markdown",
   "id": "f5467334-6918-4419-af78-359a99d79316",
   "metadata": {},
   "source": [
    "### Data notice: \n",
    "The csv is a sample which was manually generated. \n",
    "All columns except for \"gender\" and \"specialization\" are available from Dimensions Dimcli -- as explained in [Examples](#Examples) Section. \n",
    "\n",
    "The gender values were manually entered and the specializations were randomly generated from four types common in AI in Healthcare. \n",
    "\n",
    "For real usage, genderize.io or gender_detector may be useful.  \n",
    "For specialization web-scraping will be required. \n",
    "\n",
    "Otherwise manually generating a test csv file will always work if your scale is small"
   ]
  },
  {
   "cell_type": "code",
   "execution_count": 1,
   "id": "53c7f811-ed13-40fa-8a87-af63d8d350d6",
   "metadata": {
    "scrolled": true
   },
   "outputs": [],
   "source": [
    "import pandas as pd\n",
    "import numpy as np\n",
    "import random"
   ]
  },
  {
   "cell_type": "code",
   "execution_count": 2,
   "id": "30d66c2b-f628-4c48-94e2-669acf1719ed",
   "metadata": {},
   "outputs": [],
   "source": [
    "_df = pd.read_csv(\"sampleTableV3.csv\") # read csv file as dataframe"
   ]
  },
  {
   "cell_type": "code",
   "execution_count": 3,
   "id": "a849d498-5458-4522-a5b9-2199c35d0c3e",
   "metadata": {
    "scrolled": true
   },
   "outputs": [
    {
     "data": {
      "text/html": [
       "<div>\n",
       "<style scoped>\n",
       "    .dataframe tbody tr th:only-of-type {\n",
       "        vertical-align: middle;\n",
       "    }\n",
       "\n",
       "    .dataframe tbody tr th {\n",
       "        vertical-align: top;\n",
       "    }\n",
       "\n",
       "    .dataframe thead th {\n",
       "        text-align: right;\n",
       "    }\n",
       "</style>\n",
       "<table border=\"1\" class=\"dataframe\">\n",
       "  <thead>\n",
       "    <tr style=\"text-align: right;\">\n",
       "      <th></th>\n",
       "      <th>pub_id</th>\n",
       "      <th>first_name</th>\n",
       "      <th>last_name</th>\n",
       "      <th>aff_country</th>\n",
       "      <th>aff_country_code</th>\n",
       "      <th>aff_id</th>\n",
       "      <th>aff_city</th>\n",
       "      <th>aff_city_id</th>\n",
       "      <th>gender</th>\n",
       "      <th>specialization</th>\n",
       "    </tr>\n",
       "  </thead>\n",
       "  <tbody>\n",
       "    <tr>\n",
       "      <th>0</th>\n",
       "      <td>pub.1123345821</td>\n",
       "      <td>Jake</td>\n",
       "      <td>Peralta</td>\n",
       "      <td>Italy</td>\n",
       "      <td>IT</td>\n",
       "      <td>64563</td>\n",
       "      <td>Rome</td>\n",
       "      <td>92341</td>\n",
       "      <td>male</td>\n",
       "      <td>Healthcare</td>\n",
       "    </tr>\n",
       "    <tr>\n",
       "      <th>1</th>\n",
       "      <td>pub.1123345821</td>\n",
       "      <td>Amy</td>\n",
       "      <td>Santiago</td>\n",
       "      <td>Cuba</td>\n",
       "      <td>CU</td>\n",
       "      <td>72490</td>\n",
       "      <td>Havana</td>\n",
       "      <td>90182</td>\n",
       "      <td>female</td>\n",
       "      <td>Computer Science</td>\n",
       "    </tr>\n",
       "    <tr>\n",
       "      <th>2</th>\n",
       "      <td>pub.1123345821</td>\n",
       "      <td>Ray</td>\n",
       "      <td>Holt</td>\n",
       "      <td>United States</td>\n",
       "      <td>US</td>\n",
       "      <td>21345</td>\n",
       "      <td>New York City</td>\n",
       "      <td>45378</td>\n",
       "      <td>male</td>\n",
       "      <td>Engineering</td>\n",
       "    </tr>\n",
       "    <tr>\n",
       "      <th>3</th>\n",
       "      <td>pub.1123345821</td>\n",
       "      <td>Rosa</td>\n",
       "      <td>Diaz</td>\n",
       "      <td>Mexico</td>\n",
       "      <td>MX</td>\n",
       "      <td>56733</td>\n",
       "      <td>Mexico City</td>\n",
       "      <td>41414</td>\n",
       "      <td>female</td>\n",
       "      <td>Social Science</td>\n",
       "    </tr>\n",
       "    <tr>\n",
       "      <th>4</th>\n",
       "      <td>pub.1123345821</td>\n",
       "      <td>Charles</td>\n",
       "      <td>Boyle</td>\n",
       "      <td>United States</td>\n",
       "      <td>US</td>\n",
       "      <td>21345</td>\n",
       "      <td>New York City</td>\n",
       "      <td>45378</td>\n",
       "      <td>male</td>\n",
       "      <td>Healthcare</td>\n",
       "    </tr>\n",
       "  </tbody>\n",
       "</table>\n",
       "</div>"
      ],
      "text/plain": [
       "           pub_id first_name last_name    aff_country aff_country_code  \\\n",
       "0  pub.1123345821       Jake   Peralta          Italy               IT   \n",
       "1  pub.1123345821        Amy  Santiago           Cuba               CU   \n",
       "2  pub.1123345821        Ray      Holt  United States               US   \n",
       "3  pub.1123345821      Rosa       Diaz         Mexico               MX   \n",
       "4  pub.1123345821    Charles     Boyle  United States               US   \n",
       "\n",
       "   aff_id       aff_city  aff_city_id  gender    specialization  \n",
       "0   64563           Rome        92341    male        Healthcare  \n",
       "1   72490         Havana        90182  female  Computer Science  \n",
       "2   21345  New York City        45378    male       Engineering  \n",
       "3   56733    Mexico City        41414  female    Social Science  \n",
       "4   21345  New York City        45378    male        Healthcare  "
      ]
     },
     "execution_count": 3,
     "metadata": {},
     "output_type": "execute_result"
    }
   ],
   "source": [
    "_df.head()"
   ]
  },
  {
   "cell_type": "code",
   "execution_count": 4,
   "id": "cea1e239-ffe5-4329-aad1-9ffda6ef5609",
   "metadata": {},
   "outputs": [],
   "source": [
    "class Author(object):\n",
    "    def __init__(self, paper, first, last, country, country_code, aff_city, gender, specialization): \n",
    "        self.firstName = first \n",
    "        self.lastName = last \n",
    "        self.country = country\n",
    "        self.country_code = country_code\n",
    "        self.city = aff_city \n",
    "        self.gender = gender\n",
    "        self.paperList = []\n",
    "        self.specialization = specialization\n",
    "        self.paperList.append(paper) \n",
    "\n",
    "    def __eq__(self, other):\n",
    "        if (isinstance(other, Author)): \n",
    "            return (self.firstName == other.firstName and \n",
    "                    self.lastName == other.lastName and \n",
    "                    self.gender == other.gender and \n",
    "                    self.country_code == other.country_code and \n",
    "                    self.specialization == other.specialization)\n",
    "        else: \n",
    "            return False \n",
    "\n",
    "    def __hash__(self):\n",
    "        return(hash(self.firstName + self.lastName))\n",
    "\n",
    "    def display(self): \n",
    "        print(\"Author: {} {} from {}, {} ({}, {})\".format(self.firstName, \n",
    "                                                          self.lastName, \n",
    "                                                          self.city, \n",
    "                                                          self.country, \n",
    "                                                          self.gender, \n",
    "                                                          self.specialization))\n",
    "    \n",
    "    def getName(self):\n",
    "        return self.firstName + \" \" + self.lastName \n",
    "      "
   ]
  },
  {
   "cell_type": "code",
   "execution_count": 5,
   "id": "f9904625-c2df-40c3-aced-63fd9ef2e309",
   "metadata": {},
   "outputs": [],
   "source": [
    "def collectAuthorsOfOnePaper(df, pub_id, start_point=0, **kwargs):\n",
    "    refAuthor = kwargs.get('refAuthor', None)\n",
    "    authorList = []\n",
    "    for index, row in df[start_point:].iterrows(): \n",
    "        if (row[\"pub_id\"] == pub_id): \n",
    "            author = Author(\n",
    "                row[\"pub_id\"], \n",
    "                row[\"first_name\"], \n",
    "                row[\"last_name\"],\n",
    "                row[\"aff_country\"], \n",
    "                row[\"aff_country_code\"], \n",
    "                row[\"aff_city\"], \n",
    "                row[\"gender\"], \n",
    "                row[\"specialization\"]\n",
    "            )\n",
    "            if (author != refAuthor):\n",
    "                authorList.append(author)\n",
    "        else:\n",
    "            if (start_point != 0):\n",
    "                break\n",
    "    return authorList"
   ]
  },
  {
   "cell_type": "code",
   "execution_count": 6,
   "id": "bc6b5512-3733-41b1-bc3f-109077b45556",
   "metadata": {},
   "outputs": [],
   "source": [
    "# Function will search dataframe for the specific author object entered. Identified through first and last name property. \n",
    "# Use collectAuthorsOfOnePaper method to create this list \n",
    "\n",
    "def searchAuthorPapers(df, author):\n",
    "    paperDict = {} # Dictionary of an author's papers. Each key is a publication ID, each value is a list of collaborators for that paper  \n",
    "    collectionStartPoint = -1 # Tells which row the publication ID begins in df.\n",
    "    previousPaperID = \"\" # Notifies when the publication changes -- Updates collectionStartPoint\n",
    "    for index, row in df.iterrows():\n",
    "        if(row[\"pub_id\"] != previousPaperID):\n",
    "            previousPaperID = row[\"pub_id\"]\n",
    "            collectionStartPoint = index\n",
    "        if row['first_name'] == author.firstName and row['last_name'] == author.lastName and row['aff_country'] == author.country:\n",
    "            pub_id = row['pub_id'] # key\n",
    "            authorList = collectAuthorsOfOnePaper(df, pub_id, collectionStartPoint, refAuthor=author) # adds all collaborators (discludes target author)\n",
    "            pub_id = pub_id.replace(\"pub.\", \"\")\n",
    "            pub_id = int(pub_id)\n",
    "            paperDict[pub_id] = authorList\n",
    "    return paperDict"
   ]
  },
  {
   "cell_type": "code",
   "execution_count": 7,
   "id": "629390ef-f69e-40d0-a569-ceb1525bc157",
   "metadata": {},
   "outputs": [],
   "source": [
    "# Visualizations of dictionary using graph\n",
    "import matplotlib.pyplot as plt\n",
    "import networkx as nx"
   ]
  },
  {
   "cell_type": "code",
   "execution_count": 8,
   "id": "72a04f68-9eb8-439a-8b3e-e7c392c4389e",
   "metadata": {},
   "outputs": [],
   "source": [
    "def create_graph(dict_x):\n",
    "    G = nx.from_dict_of_lists(dict_x)\n",
    "    return G"
   ]
  },
  {
   "cell_type": "code",
   "execution_count": 9,
   "id": "a58a7b25-520a-483b-af59-e1565d9856dd",
   "metadata": {},
   "outputs": [],
   "source": [
    "def show_graph(G): \n",
    "    labelDict = {}\n",
    "    for node in G.nodes:\n",
    "        if(isinstance(node, Author)):\n",
    "            labelDict[node] = node.getName()\n",
    "        else:\n",
    "            labelDict[node] = node\n",
    "    nx.draw_spring(G, labels=labelDict)\n",
    "    plt.show()"
   ]
  },
  {
   "cell_type": "markdown",
   "id": "fe96a55b-631c-4740-804a-9cc744a8900a",
   "metadata": {},
   "source": [
    "# Determining the index... \n",
    "\n",
    "## Paper-based features\n",
    "\n",
    "**Relative Diversity** <br> \n",
    "This index hinges on the idea of relative diversity. Given a reference author with n-features, we compare this author to a collaborator with n-features. The more different the reference author is relative to their collaborators, the greater their d-index. \n",
    "The actual calculation simply takes the process feature by feature. <br>\n",
    "For any feature \"x\" there is a proportion of collaborators that share the same feature with the reference author. \n",
    "By taking the reciprocal of this proportion we can get the value of the author's representation of that feature. <br>\n",
    "<br>\n",
    "Example: feature=gender, n-authors=4 <br>\n",
    "If there are two male authors and two female authors each gender makes up 1/2 of the paper. The reciprocal of which is 2. Since both share the same reciprocal they are all given the same weightage. <br>\n",
    "<br>\n",
    "Example: feature=gender, n-authors=4 <br>\n",
    "If there are three male authors and one female author then each gender makes up different proprtions -- males make up 3/4 and females make up 1/4. Taking the reciprocal the female gets a weightage of 4, and the males get a factor of 1.33, which rounds to 1. <br>\n",
    "<br>\n",
    "Essentially, relative diversity puts people in positions to work with people who have different features than them, as it maximizes their weightage or value (quantifying human value is difficult, but neccessary for competition) in a given paper. \n",
    "\n",
    "What this essentially does is tries to boost a features value to be equal. So the more unique your feature, the greater your factor. \n",
    "\n",
    "**Features supported:**\n",
    "- Gender\n",
    "- Nationality\n",
    "- Specialization (Discipline)\n",
    "\n",
    "Note that all features may not be neccessary... and a big part of the discussion is which features to include\n",
    "\n",
    "Another important thing to note is the relative value of features. We handle this by giving each feature a \"baseFactor\" \n",
    "By default a feature's baseFactor is 1, and so all features are accounted for equally. \n",
    "\n",
    "Essentially you take the baseFactor of a feature and multiply it by the weightage (relative diversity proportion) to get the resulting featureFactor. \n",
    "\n",
    "By modifying the baseFactor you can start to get feature weightage as well.\n",
    "Ex: Giving gender a baseFactor of 2 and specialization a baseFactor of 4. Now specialization is twice as important. \n",
    "\n",
    "### Binary vs. Categorical features \n",
    "A common distinction between features is that some are binary (i.e. gender) and others are categorical (i.e. nationality). \n",
    "To handle binary features the proportions are quite simple, as you can directly check for which people are not like the reference author. \n",
    "\n",
    "To handle categorical features a dictionary is set up for each paper. \n",
    "Every unique categorical feature is a key, and the number of authors with that feature (count) is the value. \n",
    "\n",
    "Currently this is handled similar to binary features in that we just use it for simply calculating relative diversity proportion. \n",
    "\n",
    "However, in some cases it may be neccessary to weight certain categories a feature may contain. \n",
    "For example, in the case of nationality it is very easy for English-native speakers to work with other countries, but much harder for other countries. In this case having some kind of category weight may be useful, perhaps based on the [EF English Proficency Index](https://www.ef.com/wwen/epi/)\n",
    "\n",
    "While this has not yet been implemented, the setup has been created by supporting categorical features in a dictionary. \n",
    "\n",
    "## Cross-paper features\n",
    "**n times collaborated with** <br>\n",
    "Each paper appearance will cause the affect of their appearance to decrease by __x% across all papers every n shared appearances__ <br>\n",
    "The primary reason for this is to avoid \"cheating\" the index. \n",
    "\n",
    "While **relative diversity** is useful in getting people to work with people unlike them, it does not stop them from working with the **same** people unlike them. \n",
    "\n",
    "The aim of the index is to encourage new collaboration so therefore we add a cost for a certain amount of times the author appears. \n",
    "Essentially this creates an exponential decay function where the authors contribution, c, is multiplied by some proportion, n/d (d>n), raised to the power of (xPublications/nRepeats) or more simply: \n",
    "\n",
    "c(n/d)^(xPublications/nRepeats) where xPublications/nRepeats is floored. \n",
    "\n",
    "The nRepeats is to avoid being too punishing as many topics are covered over many papers, so it makes sense for authors to appear multiple times in some cases, while still preventing heavily cheating the index. \n",
    "\n",
    "## Result\n",
    "- Sucessfully calculate the relative-diversity of each feature of a referenceAuthor to their collaborators in a single paper.\n",
    "- Sucessfully prevent cheating the index by using the **same** relatively diverse group of people\n",
    "- Sucessfully make an extensive system for both binary and categorical features\n",
    "- Provide both feature weightage (base factors) and categorical weightage\n",
    " \n",
    "## Future paper-based features\n",
    " - University Ranking\n",
    "\n",
    "## Future cross-paper features \n",
    " - None"
   ]
  },
  {
   "cell_type": "markdown",
   "id": "a614fad1-544f-4feb-9243-faf2f586b633",
   "metadata": {},
   "source": [
    "## Supplemental calculation functions\n",
    "These functions are repeated actions used in the calculation.\n",
    "\n",
    "Note: \\\n",
    "The binaryCalculation() function and categoricalCalculation() function still do essentially the same thing. \\\n",
    "Only keeping track of unique values in a dictionary in case we would like to do unique things for unique features. \\\n",
    "\\\n",
    "Example: \\\n",
    "If someone comes from an English native speaking country, then maybe lower their contribution to the nationality bonus. \n",
    "Allows us to give recognition to those who have to learn English to contribute (higher barrier to entry)\n",
    "\n",
    "Any categorical feature can be a binary feature. \\\n",
    "Just check for \"same as refAuthor\", or \"different from refAuthor\""
   ]
  },
  {
   "cell_type": "code",
   "execution_count": 10,
   "id": "f3255877-44a5-4e12-8a81-b03ee0c4ae16",
   "metadata": {},
   "outputs": [],
   "source": [
    "# Applies the cost to the value an n number of times (currently n is a proportion) \n",
    "# This will allow us to give custom costss to features that maybe require different rules. \n",
    "def costApplication(proportion, cost):\n",
    "    return (cost**(round(proportion)))"
   ]
  },
  {
   "cell_type": "code",
   "execution_count": 11,
   "id": "11d3573a-1d63-4e08-b348-892ced94c779",
   "metadata": {},
   "outputs": [],
   "source": [
    "# Gets the reciprocal\n",
    "def getReciprocal(n, d): \n",
    "    return round(1/(n/d)) "
   ]
  },
  {
   "cell_type": "code",
   "execution_count": 12,
   "id": "a2744577-86c0-40e0-879e-07608ce10fbf",
   "metadata": {},
   "outputs": [],
   "source": [
    "# Calulating the factor for a binary feature (i.e. gender) \n",
    "def binaryCalculation(refAuthorFeature, collabFeature, baseFactor):\n",
    "    if refAuthorFeature == collabFeature: \n",
    "        return baseFactor\n",
    "    else:\n",
    "        return 0"
   ]
  },
  {
   "cell_type": "code",
   "execution_count": 13,
   "id": "0d9420d0-449d-4b0a-8ab8-79cf7ebb24cb",
   "metadata": {},
   "outputs": [],
   "source": [
    "# Calculating the factor for a categorical feature (more than two types) \n",
    "# Automatically updates the dictionary, do not need to sum\n",
    "def categoricalCalculation(collabFeature, baseFactor, countDict): \n",
    "    if collabFeature not in countDict.keys():\n",
    "        countDict[collabFeature] = baseFactor\n",
    "    else: \n",
    "        countDict[collabFeature] += baseFactor"
   ]
  },
  {
   "cell_type": "code",
   "execution_count": 14,
   "id": "10c6f3c7-610d-4f84-80d9-5aa60e9784a8",
   "metadata": {},
   "outputs": [],
   "source": [
    "def calculateDIndex(author, collabDict, collabGraph, minRepeats = 3, repeatCost = 0.2, **kwargs):\n",
    "    # Set up optional arguments\n",
    "    crossPaper = kwargs.get('crossPaper', True) # To compare index calculation with and without consideration for repeating authors\n",
    "    print_factors = kwargs.get('print_factors', False) # To trace math calculations\n",
    "    \n",
    "    # Customizing the base factors will allow us to set relative weightages for each feature\n",
    "    # by default they are all 1, giving the same weight to all features\n",
    "    baseGenderFactor = kwargs.get('baseGenderFactor', 1) \n",
    "    baseNationalityBonus = kwargs.get('baseNationalityBonus', 1) \n",
    "    baseSpecializationFactor = kwargs.get('baseSpecializationFactor', 1)\n",
    "    \n",
    "    # Storage for index of each paper\n",
    "    paperFeatureIndices = []\n",
    "    for publication in collabDict.keys():\n",
    "        # Setup features for original author\n",
    "        genderFactor = 1 \n",
    "        nationalityBonus = 0\n",
    "        nationalityCounts = {author.country_code : 1}\n",
    "        specializationFactor = 0\n",
    "        specializationCounts = {author.specialization : 1}\n",
    "        \n",
    "        for collab in collabDict[publication]:\n",
    "            # Access collaborator features\n",
    "            cost = 1 #reset cost\n",
    "            repeatProportion = collabGraph.degree[collab]/minRepeats \n",
    "            # Cost creation condition\n",
    "            if collabGraph.degree[collab] >=  minRepeats and crossPaper == True: \n",
    "                cost = (1 - repeatCost)\n",
    "            \n",
    "            # Gender calculation for this collaborator-- do they share this feature?\n",
    "            genderFactor += binaryCalculation(author.gender, collab.gender, baseGenderFactor)*costApplication(repeatProportion, cost)\n",
    "            \n",
    "            # Country_code calculation\n",
    "            categoricalCalculation(collab.country_code, \n",
    "                                   baseNationalityBonus*costApplication(repeatProportion, cost), \n",
    "                                   nationalityCounts)   \n",
    "\n",
    "            # Specialization Calculation\n",
    "            categoricalCalculation(collab.specialization, \n",
    "                                   baseSpecializationFactor*costApplication(repeatProportion, cost), \n",
    "                                   specializationCounts)\n",
    "        \n",
    "        # find feature-values for this publication\n",
    "        genderFactor = getReciprocal(genderFactor, len(collabDict[publication]))\n",
    "        \n",
    "        nationality_weight = getReciprocal(nationalityCounts[author.country_code], sum(nationalityCounts.values())) \n",
    "        nationalityBonus += len(set(nationalityCounts.keys()))*nationality_weight\n",
    "\n",
    "        specialization_weight = getReciprocal(specializationCounts[author.specialization], len(collabDict[publication]))\n",
    "        specializationFactor += len(set(specializationCounts.keys()))*specialization_weight\n",
    "        \n",
    "        # prints the feature-values for this individual paper\n",
    "        if print_factors == True:\n",
    "            print(\"pub.\" + str(publication))\n",
    "            print(\"Gender Factor: \" + str(genderFactor))\n",
    "            print(\"Nationality Factor: \" + str(nationalityBonus))\n",
    "            print(\"Specialization Factor: \" + str(specializationFactor)) \n",
    "        \n",
    "        # The paper index is the sum of the feature-values\n",
    "        paperFeatureIndices.append(genderFactor + nationalityBonus + specializationFactor)\n",
    "    \n",
    "    #Final calculation is just the average of paper indeices\n",
    "    return round(sum(paperFeatureIndices)/len(paperFeatureIndices))"
   ]
  },
  {
   "cell_type": "code",
   "execution_count": 15,
   "id": "5d0588da-b3b8-4a2b-a6b5-3414aff1c00b",
   "metadata": {},
   "outputs": [],
   "source": [
    "def show_author_publications(dict_x, G):\n",
    "    count = 0\n",
    "    keys = dict_x.keys()\n",
    "    for publication in keys:\n",
    "        print(\"pub.\" + str(publication))\n",
    "        for author in dict_x[publication]: \n",
    "            author.display()\n",
    "            print(\"Number of shared occurences: \" + str(G.degree[author]))\n",
    "        count+=1\n",
    "        print()"
   ]
  },
  {
   "cell_type": "markdown",
   "id": "234e5b58-7f71-4324-a53a-48075f99d346",
   "metadata": {},
   "source": [
    "# Examples\n",
    "\n",
    "Examples are drawn from a sample csv file, which models its columns after collected data from the Dimensions database. Information extracted from the database should consist of these columns.\n",
    "\n",
    "After extracting data from Dimensions you must apply this function to the output: \n",
    ".as_dataframe_authors_affiliations() <br>\n",
    "Further documentation linked here: \n",
    "[Dimcli Docs](https://api-lab.dimensions.ai/cookbooks/7-researchers/Researchers-Search-tips-V2.html )\n",
    "\n",
    "The sample csv mimics the output, but does not use real researchers. \n",
    "We compiled a dataframe consisting of many television characters, using actors working in multiple shows as cross-paper authors, along with mixing up some actors to generate our examples.\n",
    "\n",
    "Note: \n",
    "This is just a conceptual demonstration of the potential for a d-index to encourage new collaboration new research. By no means is this conclusive or accurate. New ideas and features will have to be considered prior to real implementation"
   ]
  },
  {
   "cell_type": "markdown",
   "id": "63861bae-7ece-441d-bd55-25eebe50337a",
   "metadata": {},
   "source": [
    "### Example 1\n",
    "This example demonstrates how two authors can have the same gender and nationality factor in their shared paper from shared characteristics\n",
    "It also shows how the nationality and gender factor work with different genders and nationalities. "
   ]
  },
  {
   "cell_type": "code",
   "execution_count": 16,
   "id": "f4cee633-9cea-4067-bd72-69342fd30f43",
   "metadata": {},
   "outputs": [],
   "source": [
    "authorList = collectAuthorsOfOnePaper(_df, \"pub.3708184030\")"
   ]
  },
  {
   "cell_type": "code",
   "execution_count": 17,
   "id": "8eade291-bbbc-4fe6-9972-84ff1d270694",
   "metadata": {},
   "outputs": [
    {
     "name": "stdout",
     "output_type": "stream",
     "text": [
      "Author: Bo Jack from Toronto, Canada (male, Engineering)\n",
      "Author: Jessie Pinkman from Emmett, United States (male, Social Science)\n",
      "Author: Annie Nguyen from Los Angeles, United States (female, Computer Science)\n",
      "Author: Rosa Diaz from Houston, United States (female, Social Science)\n"
     ]
    }
   ],
   "source": [
    "for author in authorList: \n",
    "    author.display()"
   ]
  },
  {
   "cell_type": "code",
   "execution_count": 18,
   "id": "8576bbbd-9ac5-4d89-b5a0-3ce257c10cc9",
   "metadata": {},
   "outputs": [],
   "source": [
    "x = searchAuthorPapers(_df, authorList[2]) # Find all papers for Annie Nguyen"
   ]
  },
  {
   "cell_type": "code",
   "execution_count": 19,
   "id": "6fd1c54e-d467-4463-b84f-cf69d7d2d5cf",
   "metadata": {},
   "outputs": [],
   "source": [
    "G = create_graph(x)"
   ]
  },
  {
   "cell_type": "code",
   "execution_count": 20,
   "id": "1796532f-af82-4cb3-a5c8-a91127f42fb4",
   "metadata": {},
   "outputs": [
    {
     "data": {
      "image/png": "[encoded data removed]",
      "text/plain": [
       "<Figure size 640x480 with 1 Axes>"
      ]
     },
     "metadata": {},
     "output_type": "display_data"
    }
   ],
   "source": [
    "show_graph(G)\n",
    "# Here we can see that Annie is in two papers, however none of her collaborators repeat"
   ]
  },
  {
   "cell_type": "code",
   "execution_count": 21,
   "id": "3be33359-7dd9-4abf-945e-8287ac3bc590",
   "metadata": {},
   "outputs": [],
   "source": [
    "y = searchAuthorPapers(_df, authorList[3]) # This is the dictionary for Rosa Diaz"
   ]
  },
  {
   "cell_type": "code",
   "execution_count": 22,
   "id": "7741107f-ebc9-44a1-9940-504f190b18aa",
   "metadata": {},
   "outputs": [],
   "source": [
    "G2 = create_graph(y)"
   ]
  },
  {
   "cell_type": "code",
   "execution_count": 23,
   "id": "a0c8131a-53c9-4cd6-97c4-d7aaa363a878",
   "metadata": {},
   "outputs": [
    {
     "data": {
      "image/png": "[encoded data removed]",
      "text/plain": [
       "<Figure size 640x480 with 1 Axes>"
      ]
     },
     "metadata": {},
     "output_type": "display_data"
    }
   ],
   "source": [
    "show_graph(G2) # Here you can see she is part of the one paper with Annie, and no other papers"
   ]
  },
  {
   "cell_type": "code",
   "execution_count": 24,
   "id": "de0979a2-3599-42ef-af70-b1ef10759bee",
   "metadata": {},
   "outputs": [
    {
     "name": "stdout",
     "output_type": "stream",
     "text": [
      "pub.941530802\n",
      "Gender Factor: 3\n",
      "Nationality Factor: 6\n",
      "Specialization Factor: 12\n",
      "pub.3708184030\n",
      "Gender Factor: 2\n",
      "Nationality Factor: 2\n",
      "Specialization Factor: 9\n"
     ]
    }
   ],
   "source": [
    "annie_index = calculateDIndex(authorList[2], x, G, print_factors=True)"
   ]
  },
  {
   "cell_type": "code",
   "execution_count": 25,
   "id": "2cca2b69-a5da-4bdd-9bd6-9813d3e7c459",
   "metadata": {},
   "outputs": [
    {
     "name": "stdout",
     "output_type": "stream",
     "text": [
      "Annie Nguyen's D-Index: 17\n"
     ]
    }
   ],
   "source": [
    "print(authorList[2].getName() + \"'s D-Index: \"+ str(annie_index))"
   ]
  },
  {
   "cell_type": "code",
   "execution_count": 26,
   "id": "68a4f8df-b28a-4923-8e9d-970472e1f1c7",
   "metadata": {},
   "outputs": [
    {
     "name": "stdout",
     "output_type": "stream",
     "text": [
      "pub.3708184030\n",
      "Gender Factor: 2\n",
      "Nationality Factor: 2\n",
      "Specialization Factor: 6\n"
     ]
    }
   ],
   "source": [
    "rosa_index = calculateDIndex(authorList[3], y, G2, print_factors=True)"
   ]
  },
  {
   "cell_type": "code",
   "execution_count": 27,
   "id": "b8a3e474-08e7-4236-a1df-7f92f05ac553",
   "metadata": {},
   "outputs": [
    {
     "name": "stdout",
     "output_type": "stream",
     "text": [
      "Rosa Diaz's D-Index: 10\n"
     ]
    }
   ],
   "source": [
    "print(authorList[3].getName() + \"'s D-Index: \"+ str(rosa_index))"
   ]
  },
  {
   "cell_type": "code",
   "execution_count": 28,
   "id": "25aa1651-7648-4fb3-8249-67968da17248",
   "metadata": {},
   "outputs": [
    {
     "name": "stdout",
     "output_type": "stream",
     "text": [
      "pub.941530802\n",
      "Author: Abed  Nadir from Jerusalem, Palestine (male, Engineering)\n",
      "Number of shared occurences: 1\n",
      "Author: Troy Barnes from Atlanta, United States (male, Social Science)\n",
      "Number of shared occurences: 1\n",
      "Author: Jeff Winger from Rome, Italy (male, Healthcare)\n",
      "Number of shared occurences: 1\n",
      "\n",
      "pub.3708184030\n",
      "Author: Bo Jack from Toronto, Canada (male, Engineering)\n",
      "Number of shared occurences: 1\n",
      "Author: Jessie Pinkman from Emmett, United States (male, Social Science)\n",
      "Number of shared occurences: 1\n",
      "Author: Rosa Diaz from Houston, United States (female, Social Science)\n",
      "Number of shared occurences: 1\n",
      "\n"
     ]
    }
   ],
   "source": [
    "show_author_publications(x, G)"
   ]
  },
  {
   "cell_type": "code",
   "execution_count": 29,
   "id": "8ee08a1b-3b0d-4d10-9eed-631fbb53a7c6",
   "metadata": {},
   "outputs": [
    {
     "name": "stdout",
     "output_type": "stream",
     "text": [
      "pub.3708184030\n",
      "Author: Bo Jack from Toronto, Canada (male, Engineering)\n",
      "Number of shared occurences: 1\n",
      "Author: Jessie Pinkman from Emmett, United States (male, Social Science)\n",
      "Number of shared occurences: 1\n",
      "Author: Annie Nguyen from Los Angeles, United States (female, Computer Science)\n",
      "Number of shared occurences: 1\n",
      "\n"
     ]
    }
   ],
   "source": [
    "show_author_publications(y, G2)"
   ]
  },
  {
   "cell_type": "markdown",
   "id": "b7baa1ce-7539-4ae4-9e57-cc084af36dc7",
   "metadata": {},
   "source": [
    "### Example 2\n",
    "This example shows how authors of the same paper can have different indexes just based on their perspective within the paper\n",
    "All of these authors are only linked to this paper.\n",
    "Due to the fact there is one female from a foreign country her perspective needs to be multiplied greatly to achieve equal representation. \n",
    "On the other hand, three of four authors are males from the US, therefore their perspectives are considered similar."
   ]
  },
  {
   "cell_type": "code",
   "execution_count": 30,
   "id": "9f12f29a-4dab-4b08-8bc1-5d6aa0ad9c3a",
   "metadata": {},
   "outputs": [],
   "source": [
    "authorList = collectAuthorsOfOnePaper(_df, \"pub.1156792011\")"
   ]
  },
  {
   "cell_type": "code",
   "execution_count": 31,
   "id": "bdf4bb76-63a9-4d3e-bdc4-0b7c8b03e9a0",
   "metadata": {},
   "outputs": [
    {
     "name": "stdout",
     "output_type": "stream",
     "text": [
      "Author: Kelly Kapoor from Bangalore, India (female, Engineering)\n",
      "Author: Michael Scott from Scranton, United States (male, Social Science)\n",
      "Author: Jim Halpert from Scranton, United States (male, Healthcare)\n",
      "Author: Dwight  Schrute from Scranton, United States (male, Computer Science)\n"
     ]
    }
   ],
   "source": [
    "for author in authorList:\n",
    "    author.display()"
   ]
  },
  {
   "cell_type": "code",
   "execution_count": 32,
   "id": "5620c8ed-32ff-4003-8cde-8d93945ba478",
   "metadata": {},
   "outputs": [],
   "source": [
    "x = searchAuthorPapers(_df, authorList[0])"
   ]
  },
  {
   "cell_type": "code",
   "execution_count": 33,
   "id": "e8effb5c-40ca-4cf3-b18c-641a4e479908",
   "metadata": {},
   "outputs": [],
   "source": [
    "G = create_graph(x)"
   ]
  },
  {
   "cell_type": "code",
   "execution_count": 34,
   "id": "6fb9dbe7-12e0-4a29-aab3-a16120370000",
   "metadata": {},
   "outputs": [],
   "source": [
    "index = calculateDIndex(authorList[0], x, G)"
   ]
  },
  {
   "cell_type": "code",
   "execution_count": 35,
   "id": "90267a95-f5b2-44c0-9f86-11dd09630eb6",
   "metadata": {},
   "outputs": [
    {
     "name": "stdout",
     "output_type": "stream",
     "text": [
      "23\n"
     ]
    }
   ],
   "source": [
    "print(index)"
   ]
  },
  {
   "cell_type": "code",
   "execution_count": 36,
   "id": "398f240b-93f2-4c9e-b645-c18174f4c233",
   "metadata": {},
   "outputs": [],
   "source": [
    "y = searchAuthorPapers(_df, authorList[1])"
   ]
  },
  {
   "cell_type": "code",
   "execution_count": 37,
   "id": "cbefd671-9a76-4ae2-b369-b5628ca96cac",
   "metadata": {},
   "outputs": [],
   "source": [
    "G2 = create_graph(y)"
   ]
  },
  {
   "cell_type": "code",
   "execution_count": 38,
   "id": "1d202804-f034-41a6-b426-0815cd0228e0",
   "metadata": {},
   "outputs": [],
   "source": [
    "index2 = calculateDIndex(authorList[1], y, G2)"
   ]
  },
  {
   "cell_type": "code",
   "execution_count": 39,
   "id": "008c3c55-7b99-4d49-b7ea-11f480ad5854",
   "metadata": {},
   "outputs": [
    {
     "name": "stdout",
     "output_type": "stream",
     "text": [
      "15\n"
     ]
    }
   ],
   "source": [
    "print(index2)"
   ]
  },
  {
   "cell_type": "markdown",
   "id": "5518c822-18e9-45fe-bac6-2fb8081eb9c5",
   "metadata": {},
   "source": [
    "### Example 3\n",
    "\n",
    "This example explores the relationship of one author who has collaborated with other authors across three papers. This will represent the cross-paper feature of number of shared occurences.\n",
    "\n",
    "You can see the D-index of the author drops 4 points by "
   ]
  },
  {
   "cell_type": "code",
   "execution_count": 40,
   "id": "ab3444f7-b895-432a-bb96-7ec198b7eef0",
   "metadata": {},
   "outputs": [],
   "source": [
    "# Compile list of authors from selected publication\n",
    "authorList = collectAuthorsOfOnePaper(_df, \"pub.1123345821\", start_point=0) "
   ]
  },
  {
   "cell_type": "code",
   "execution_count": 41,
   "id": "b3c3662b-11e3-42ff-969e-b14aed2f87b3",
   "metadata": {},
   "outputs": [
    {
     "name": "stdout",
     "output_type": "stream",
     "text": [
      "Author: Jake Peralta from Rome, Italy (male, Healthcare)\n",
      "Author: Amy Santiago from Havana, Cuba (female, Computer Science)\n",
      "Author: Ray Holt from New York City, United States (male, Engineering)\n",
      "Author: Rosa  Diaz from Mexico City, Mexico (female, Social Science)\n",
      "Author: Charles Boyle from New York City, United States (male, Healthcare)\n",
      "Author: Gina Linetti from New York City, United States (female, Computer Science)\n"
     ]
    }
   ],
   "source": [
    "for author in authorList: \n",
    "    author.display()"
   ]
  },
  {
   "cell_type": "code",
   "execution_count": 42,
   "id": "326e992f-e946-4c0a-b816-f11ced78e189",
   "metadata": {},
   "outputs": [],
   "source": [
    "# Creates dictionary of people Jake Peralta has worked with across all of the papers he is in in the dataframe\n",
    "x = searchAuthorPapers(_df, authorList[0]) "
   ]
  },
  {
   "cell_type": "code",
   "execution_count": 43,
   "id": "90b9f7bd-1a0e-407a-9609-a40e007a60cb",
   "metadata": {},
   "outputs": [],
   "source": [
    "G = create_graph(x) # creates Graph from dictionary"
   ]
  },
  {
   "cell_type": "code",
   "execution_count": 46,
   "id": "da097dc1-73a5-465a-9889-30651a09dbc8",
   "metadata": {},
   "outputs": [
    {
     "data": {
      "image/png": "[encoded data removed]",
      "text/plain": [
       "<Figure size 640x480 with 1 Axes>"
      ]
     },
     "metadata": {},
     "output_type": "display_data"
    }
   ],
   "source": [
    "# As you can see, there is a group of authors that appear to have shared appearances in three papers, \n",
    "# along with two outliers added in a third paper\n",
    "show_graph(G)"
   ]
  },
  {
   "cell_type": "code",
   "execution_count": 47,
   "id": "ebbc321a-d11b-42cf-99d5-4e6a2e74b6bf",
   "metadata": {},
   "outputs": [
    {
     "name": "stdout",
     "output_type": "stream",
     "text": [
      "pub.1123345821\n",
      "Gender Factor: 2\n",
      "Nationality Factor: 20\n",
      "Specialization Factor: 8\n",
      "pub.1319112586\n",
      "Gender Factor: 2\n",
      "Nationality Factor: 12\n",
      "Specialization Factor: 12\n",
      "pub.540609372\n",
      "Gender Factor: 2\n",
      "Nationality Factor: 12\n",
      "Specialization Factor: 12\n"
     ]
    }
   ],
   "source": [
    "index = calculateDIndex(authorList[0], x, G, minRepeats=2, print_factors=True) # Calculate index for Jake "
   ]
  },
  {
   "cell_type": "code",
   "execution_count": 48,
   "id": "d9b48624-2cc7-41f8-8952-163248690727",
   "metadata": {},
   "outputs": [
    {
     "name": "stdout",
     "output_type": "stream",
     "text": [
      "Jake Peralta's D-Index: 27\n"
     ]
    }
   ],
   "source": [
    "print(authorList[0].getName() + \"'s D-Index: \"+ str(index))"
   ]
  },
  {
   "cell_type": "code",
   "execution_count": 49,
   "id": "04ace42a-ee90-41e4-9261-82bc4ea284a5",
   "metadata": {},
   "outputs": [
    {
     "name": "stdout",
     "output_type": "stream",
     "text": [
      "pub.1123345821\n",
      "Gender Factor: 2\n",
      "Nationality Factor: 24\n",
      "Specialization Factor: 8\n",
      "pub.1319112586\n",
      "Gender Factor: 2\n",
      "Nationality Factor: 16\n",
      "Specialization Factor: 12\n",
      "pub.540609372\n",
      "Gender Factor: 2\n",
      "Nationality Factor: 16\n",
      "Specialization Factor: 12\n"
     ]
    }
   ],
   "source": [
    "# Calculate index without decreasing the authors added value for repeat occurences\n",
    "index = calculateDIndex(authorList[0], x, G, minRepeats=2, crossPaper=False, print_factors=True) "
   ]
  },
  {
   "cell_type": "code",
   "execution_count": 50,
   "id": "8c9fc1c4-41ec-4924-bc18-da98b56021aa",
   "metadata": {},
   "outputs": [
    {
     "name": "stdout",
     "output_type": "stream",
     "text": [
      "Jake Peralta's D-Index without crossPaperFeatures: 31\n"
     ]
    }
   ],
   "source": [
    "print(authorList[0].getName() + \"'s D-Index without crossPaperFeatures: \"+ str(index))"
   ]
  },
  {
   "cell_type": "code",
   "execution_count": 51,
   "id": "9a1877b8-2089-4195-ba7f-93f0507d51a6",
   "metadata": {
    "scrolled": true
   },
   "outputs": [
    {
     "name": "stdout",
     "output_type": "stream",
     "text": [
      "pub.1123345821\n",
      "Author: Amy Santiago from Havana, Cuba (female, Computer Science)\n",
      "Number of shared occurences: 3\n",
      "Author: Ray Holt from New York City, United States (male, Engineering)\n",
      "Number of shared occurences: 3\n",
      "Author: Rosa  Diaz from Mexico City, Mexico (female, Social Science)\n",
      "Number of shared occurences: 3\n",
      "Author: Charles Boyle from New York City, United States (male, Healthcare)\n",
      "Number of shared occurences: 1\n",
      "Author: Gina Linetti from New York City, United States (female, Computer Science)\n",
      "Number of shared occurences: 1\n",
      "\n",
      "pub.1319112586\n",
      "Author: Amy Santiago from Havana, Cuba (female, Computer Science)\n",
      "Number of shared occurences: 3\n",
      "Author: Ray Holt from New York City, United States (male, Engineering)\n",
      "Number of shared occurences: 3\n",
      "Author: Rosa  Diaz from Mexico City, Mexico (female, Social Science)\n",
      "Number of shared occurences: 3\n",
      "\n",
      "pub.540609372\n",
      "Author: Amy Santiago from Havana, Cuba (female, Computer Science)\n",
      "Number of shared occurences: 3\n",
      "Author: Ray Holt from New York City, United States (male, Engineering)\n",
      "Number of shared occurences: 3\n",
      "Author: Rosa  Diaz from Mexico City, Mexico (female, Social Science)\n",
      "Number of shared occurences: 3\n",
      "\n"
     ]
    }
   ],
   "source": [
    "show_author_publications(x, G) # Use to fact-check the math"
   ]
  }
 ],
 "metadata": {
  "kernelspec": {
   "display_name": "Python 3 (ipykernel)",
   "language": "python",
   "name": "python3"
  },
  "language_info": {
   "codemirror_mode": {
    "name": "ipython",
    "version": 3
   },
   "file_extension": ".py",
   "mimetype": "text/x-python",
   "name": "python",
   "nbconvert_exporter": "python",
   "pygments_lexer": "ipython3",
   "version": "3.11.7"
  }
 },
 "nbformat": 4,
 "nbformat_minor": 5
}

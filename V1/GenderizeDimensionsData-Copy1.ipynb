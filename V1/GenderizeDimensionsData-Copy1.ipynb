{
 "cells": [
  {
   "cell_type": "code",
   "execution_count": 1,
   "id": "53c7f811-ed13-40fa-8a87-af63d8d350d6",
   "metadata": {
    "scrolled": true
   },
   "outputs": [],
   "source": [
    "from genderize import Genderize #ran out 1000 names :(\n",
    "import pandas as pd\n",
    "import numpy as np\n",
    "import random\n",
    "import gender_guesser.detector as gender "
   ]
  },
  {
   "cell_type": "code",
   "execution_count": 2,
   "id": "aa547b73-f04b-4d8d-812a-d5de58e0bcc0",
   "metadata": {},
   "outputs": [],
   "source": [
    "detector = gender.Detector()"
   ]
  },
  {
   "cell_type": "code",
   "execution_count": 3,
   "id": "30d66c2b-f628-4c48-94e2-669acf1719ed",
   "metadata": {},
   "outputs": [],
   "source": [
    "_df = pd.read_csv(\"sampleTable.csv\") # read csv file as dataframe"
   ]
  },
  {
   "cell_type": "code",
   "execution_count": 4,
   "id": "a849d498-5458-4522-a5b9-2199c35d0c3e",
   "metadata": {
    "scrolled": true
   },
   "outputs": [
    {
     "data": {
      "text/html": [
       "<div>\n",
       "<style scoped>\n",
       "    .dataframe tbody tr th:only-of-type {\n",
       "        vertical-align: middle;\n",
       "    }\n",
       "\n",
       "    .dataframe tbody tr th {\n",
       "        vertical-align: top;\n",
       "    }\n",
       "\n",
       "    .dataframe thead th {\n",
       "        text-align: right;\n",
       "    }\n",
       "</style>\n",
       "<table border=\"1\" class=\"dataframe\">\n",
       "  <thead>\n",
       "    <tr style=\"text-align: right;\">\n",
       "      <th></th>\n",
       "      <th>pub_id</th>\n",
       "      <th>first_name</th>\n",
       "      <th>last_name</th>\n",
       "      <th>aff_country</th>\n",
       "      <th>aff_country_code</th>\n",
       "      <th>aff_id</th>\n",
       "      <th>aff_city</th>\n",
       "      <th>aff_city_id</th>\n",
       "      <th>gender</th>\n",
       "    </tr>\n",
       "  </thead>\n",
       "  <tbody>\n",
       "    <tr>\n",
       "      <th>0</th>\n",
       "      <td>pub.1123345821</td>\n",
       "      <td>Jake</td>\n",
       "      <td>Peralta</td>\n",
       "      <td>United States</td>\n",
       "      <td>US</td>\n",
       "      <td>21345</td>\n",
       "      <td>New York City</td>\n",
       "      <td>45378</td>\n",
       "      <td>male</td>\n",
       "    </tr>\n",
       "    <tr>\n",
       "      <th>1</th>\n",
       "      <td>pub.1123345821</td>\n",
       "      <td>Amy</td>\n",
       "      <td>Santiago</td>\n",
       "      <td>Cuba</td>\n",
       "      <td>CU</td>\n",
       "      <td>72490</td>\n",
       "      <td>Havana</td>\n",
       "      <td>90182</td>\n",
       "      <td>female</td>\n",
       "    </tr>\n",
       "    <tr>\n",
       "      <th>2</th>\n",
       "      <td>pub.1123345821</td>\n",
       "      <td>Ray</td>\n",
       "      <td>Holt</td>\n",
       "      <td>United States</td>\n",
       "      <td>US</td>\n",
       "      <td>21345</td>\n",
       "      <td>New York City</td>\n",
       "      <td>45378</td>\n",
       "      <td>male</td>\n",
       "    </tr>\n",
       "    <tr>\n",
       "      <th>3</th>\n",
       "      <td>pub.1123345821</td>\n",
       "      <td>Rosa</td>\n",
       "      <td>Diaz</td>\n",
       "      <td>United States</td>\n",
       "      <td>US</td>\n",
       "      <td>21345</td>\n",
       "      <td>Houston</td>\n",
       "      <td>12456</td>\n",
       "      <td>female</td>\n",
       "    </tr>\n",
       "    <tr>\n",
       "      <th>4</th>\n",
       "      <td>pub.1123345821</td>\n",
       "      <td>Charles</td>\n",
       "      <td>Boyle</td>\n",
       "      <td>United States</td>\n",
       "      <td>US</td>\n",
       "      <td>21345</td>\n",
       "      <td>New York City</td>\n",
       "      <td>45378</td>\n",
       "      <td>male</td>\n",
       "    </tr>\n",
       "  </tbody>\n",
       "</table>\n",
       "</div>"
      ],
      "text/plain": [
       "           pub_id first_name last_name    aff_country aff_country_code aff_id  \\\n",
       "0  pub.1123345821       Jake   Peralta  United States               US  21345   \n",
       "1  pub.1123345821        Amy  Santiago           Cuba               CU  72490   \n",
       "2  pub.1123345821        Ray      Holt  United States               US  21345   \n",
       "3  pub.1123345821      Rosa       Diaz  United States               US  21345   \n",
       "4  pub.1123345821    Charles     Boyle  United States               US  21345   \n",
       "\n",
       "        aff_city  aff_city_id  gender  \n",
       "0  New York City        45378    male  \n",
       "1         Havana        90182  female  \n",
       "2  New York City        45378    male  \n",
       "3        Houston        12456  female  \n",
       "4  New York City        45378    male  "
      ]
     },
     "execution_count": 4,
     "metadata": {},
     "output_type": "execute_result"
    }
   ],
   "source": [
    "_df.head()"
   ]
  },
  {
   "cell_type": "code",
   "execution_count": 9,
   "id": "cea1e239-ffe5-4329-aad1-9ffda6ef5609",
   "metadata": {},
   "outputs": [],
   "source": [
    "class Author(object):\n",
    "    def __init__(self, paper, first, last, country, country_code, aff_city, gender): \n",
    "        self.firstName = first \n",
    "        self.lastName = last \n",
    "        self.country = country\n",
    "        self.country_code = country_code\n",
    "        self.city = aff_city \n",
    "        #self.gender = detector.get_gender(first + last)\n",
    "        self.gender = gender\n",
    "        self.paperList = []\n",
    "        self.paperList.append(paper) \n",
    "\n",
    "    def __eq__(self, other):\n",
    "        if (isinstance(other, Author)): \n",
    "            return (self.firstName == other.firstName and self.lastName == other.lastName and self.gender == other.gender and self.country_code and other.country_code)\n",
    "        else: \n",
    "            return False \n",
    "\n",
    "    def __hash__(self):\n",
    "        return(hash(self.firstName + self.lastName))\n",
    "\n",
    "    def display(self): \n",
    "        print(\"Author: \" + self.firstName + \" \" + self.lastName + \" from \" + self.city + \", \" + self.country + \"(\" + self.gender + \")\")\n",
    "    \n",
    "    def getName(self):\n",
    "        return self.firstName + \" \" + self.lastName \n",
    "      "
   ]
  },
  {
   "cell_type": "code",
   "execution_count": 10,
   "id": "f9904625-c2df-40c3-aced-63fd9ef2e309",
   "metadata": {},
   "outputs": [],
   "source": [
    "def collectAuthorsOfOnePaper(df, pub_id, start_point, **kwargs):\n",
    "    refAuthor = kwargs.get('refAuthor', None)\n",
    "    authorList = []\n",
    "    for index, row in df[start_point:].iterrows(): \n",
    "        if (row[\"pub_id\"] == pub_id): \n",
    "            author = Author(\n",
    "                row[\"pub_id\"], \n",
    "                row[\"first_name\"], \n",
    "                row[\"last_name\"],\n",
    "                row[\"aff_country\"], \n",
    "                row[\"aff_country_code\"], \n",
    "                row[\"aff_city\"], \n",
    "                row[\"gender\"]\n",
    "            )\n",
    "            if (author != refAuthor):\n",
    "                authorList.append(author)\n",
    "        else:\n",
    "            break\n",
    "    return authorList"
   ]
  },
  {
   "cell_type": "code",
   "execution_count": 11,
   "id": "bc6b5512-3733-41b1-bc3f-109077b45556",
   "metadata": {},
   "outputs": [],
   "source": [
    "# Function will search dataframe for the specific author object entered. Identified through first and last name property. \n",
    "# Use collectAuthorsOfOnePaper method to create this list \n",
    "\n",
    "def searchAuthorPapers(df, author):\n",
    "    paperDict = {} # Dictionary of an author's papers. Each key is a publication ID, each value is a list of collaborators for that paper  \n",
    "    collectionStartPoint = -1 # Tells which row the publication ID begins in df.\n",
    "    previousPaperID = \"\" # Notifies when the publication changes -- Updates collectionStartPoint\n",
    "    for index, row in df.iterrows():\n",
    "        if(row[\"pub_id\"] != previousPaperID):\n",
    "            previousPaperID = row[\"pub_id\"]\n",
    "            collectionStartPoint = index\n",
    "        if row['first_name'] == author.firstName and row['last_name'] == author.lastName and row['aff_country'] == author.country:\n",
    "            pub_id = row['pub_id'] # key\n",
    "            authorList = collectAuthorsOfOnePaper(df, pub_id, collectionStartPoint, refAuthor=author)\n",
    "            pub_id = pub_id.replace(\"pub.\", \"\")\n",
    "            pub_id = int(pub_id)\n",
    "            paperDict[pub_id] = authorList\n",
    "    return paperDict"
   ]
  },
  {
   "cell_type": "code",
   "execution_count": 12,
   "id": "ab3444f7-b895-432a-bb96-7ec198b7eef0",
   "metadata": {},
   "outputs": [],
   "source": [
    "authorList = collectAuthorsOfOnePaper(_df, \"pub.1123345821\", 0) "
   ]
  },
  {
   "cell_type": "code",
   "execution_count": 13,
   "id": "db70efeb-0430-46b8-a72f-4fe39badd6c6",
   "metadata": {},
   "outputs": [
    {
     "name": "stdout",
     "output_type": "stream",
     "text": [
      "5\n"
     ]
    }
   ],
   "source": [
    "print(len(authorList))"
   ]
  },
  {
   "cell_type": "code",
   "execution_count": 14,
   "id": "ea0ccdc6-70cb-46f7-bad7-60d6c25d9eab",
   "metadata": {},
   "outputs": [
    {
     "name": "stdout",
     "output_type": "stream",
     "text": [
      "Jake Peralta\n",
      "Amy Santiago\n",
      "Ray Holt\n",
      "Rosa  Diaz\n",
      "Charles Boyle\n"
     ]
    }
   ],
   "source": [
    "for author in authorList:\n",
    "    print(author.getName())"
   ]
  },
  {
   "cell_type": "code",
   "execution_count": 16,
   "id": "326e992f-e946-4c0a-b816-f11ced78e189",
   "metadata": {},
   "outputs": [],
   "source": [
    "x = searchAuthorPapers(_df, authorList[4])"
   ]
  },
  {
   "cell_type": "code",
   "execution_count": 17,
   "id": "21c5e9c3-aaeb-4abc-a59f-189bc1e0a70d",
   "metadata": {},
   "outputs": [
    {
     "data": {
      "text/plain": [
       "dict_keys([1123345821, 3458903457])"
      ]
     },
     "execution_count": 17,
     "metadata": {},
     "output_type": "execute_result"
    }
   ],
   "source": [
    "x.keys()"
   ]
  },
  {
   "cell_type": "code",
   "execution_count": 18,
   "id": "6980e222-757a-44c4-a4a0-487148feb059",
   "metadata": {},
   "outputs": [
    {
     "name": "stdout",
     "output_type": "stream",
     "text": [
      "dict_values([[<__main__.Author object at 0x7a1781211710>, <__main__.Author object at 0x7a1781210990>, <__main__.Author object at 0x7a1781213110>, <__main__.Author object at 0x7a1781213c50>], [<__main__.Author object at 0x7a1781048810>, <__main__.Author object at 0x7a1781211b10>, <__main__.Author object at 0x7a1781213810>, <__main__.Author object at 0x7a1781049d10>, <__main__.Author object at 0x7a1781210fd0>, <__main__.Author object at 0x7a17810486d0>, <__main__.Author object at 0x7a1781048510>]])\n"
     ]
    }
   ],
   "source": [
    "print(x.values())"
   ]
  },
  {
   "cell_type": "code",
   "execution_count": 19,
   "id": "0cdd4174-4d14-4d2d-a6cf-2f8e3cb49b84",
   "metadata": {},
   "outputs": [],
   "source": [
    "# In this example we can see multiple papers of a single author can be found and sorted\n",
    "# If someone collected multiple csvs of different authors to see how much they collaborate, we can get that information"
   ]
  },
  {
   "cell_type": "code",
   "execution_count": 20,
   "id": "d8a69ab5-7b8f-47da-bcdf-13595530eae8",
   "metadata": {},
   "outputs": [
    {
     "name": "stdout",
     "output_type": "stream",
     "text": [
      "1123345821\n",
      "Jake Peralta\n",
      "Amy Santiago\n",
      "Ray Holt\n",
      "Rosa  Diaz\n",
      "\n",
      "3458903457\n",
      "Jake Peralta\n",
      "Rosa  Diaz\n",
      "Víctor Doménech-García\n",
      "Yutian Ji\n",
      "Qianhui Xu\n",
      "Shukun Liu\n",
      "Yuanshi Wang\n",
      "\n"
     ]
    }
   ],
   "source": [
    "count = 0\n",
    "keys = x.keys()\n",
    "for publication in keys:\n",
    "    print(publication)\n",
    "    for author in x[publication]: \n",
    "        print(author.getName())\n",
    "    count+=1\n",
    "    print()"
   ]
  },
  {
   "cell_type": "code",
   "execution_count": 21,
   "id": "6350f0be-39cd-46d8-9395-c2601a9441b0",
   "metadata": {},
   "outputs": [
    {
     "name": "stdout",
     "output_type": "stream",
     "text": [
      "Author: Charles Boyle from New York City, United States(male)\n"
     ]
    }
   ],
   "source": [
    "authorList[4].display()"
   ]
  },
  {
   "cell_type": "code",
   "execution_count": 22,
   "id": "629390ef-f69e-40d0-a569-ceb1525bc157",
   "metadata": {},
   "outputs": [],
   "source": [
    "# Visualizations of dictionary using graph\n",
    "import matplotlib.pyplot as plt\n",
    "import networkx as nx"
   ]
  },
  {
   "cell_type": "code",
   "execution_count": 23,
   "id": "72a04f68-9eb8-439a-8b3e-e7c392c4389e",
   "metadata": {},
   "outputs": [
    {
     "data": {
      "image/png": "[encoded data removed]",
      "text/plain": [
       "<Figure size 640x480 with 1 Axes>"
      ]
     },
     "metadata": {},
     "output_type": "display_data"
    }
   ],
   "source": [
    "G = nx.from_dict_of_lists(x)\n",
    "nx.draw(G)\n",
    "plt.show()"
   ]
  },
  {
   "cell_type": "code",
   "execution_count": 25,
   "id": "6293b51f-dc82-43bc-9844-485952f7fbbf",
   "metadata": {},
   "outputs": [
    {
     "name": "stdout",
     "output_type": "stream",
     "text": [
      "1123345821\n",
      "3458903457\n",
      "Jake Peralta\n",
      "2\n",
      "Amy Santiago\n",
      "1\n",
      "Ray Holt\n",
      "1\n",
      "Rosa  Diaz\n",
      "2\n",
      "Víctor Doménech-García\n",
      "1\n",
      "Yutian Ji\n",
      "1\n",
      "Qianhui Xu\n",
      "1\n",
      "Shukun Liu\n",
      "1\n",
      "Yuanshi Wang\n",
      "1\n"
     ]
    }
   ],
   "source": [
    "# Each author gets their own unique node (due to eq and hash functions)\n",
    "# We can see the number of times an author has collaborated with the main author\n",
    "count = 0\n",
    "for node in G.nodes:\n",
    "    count += 1\n",
    "    #print(\"Count: \" + str(count))\n",
    "    if isinstance(node, Author):\n",
    "        print(node.getName())\n",
    "        print(G.degree[node])\n",
    "    else:\n",
    "        print(node)"
   ]
  },
  {
   "cell_type": "markdown",
   "id": "fe96a55b-631c-4740-804a-9cc744a8900a",
   "metadata": {},
   "source": [
    "# Determining the index... \n",
    "\n",
    "## Paper-based features\n",
    "\n",
    " **Gender: 1/(% of gender)**<br>\n",
    " Ex: 4/7 F, 3/7 M.  <br>\n",
    "- Each male will get 7/3 = 2.33, Each female get 7/4 = 1.42 apply a round function, each male gets 2, each female gets 1. <br>\n",
    " This is because this paper in particular is partially female dominated, thus making the male perspective slightly more valuable\n",
    " \n",
    " Ex: 1/7 F, 6/7 M: \n",
    " - The female gets a score of 7, the male get 7/6 or 1.16 which rounds to 1. In this case to balance the genders the females perspective is 7 times as valuable in order for equal gender diversity.  \n",
    "\n",
    " This rewards people for joining papers in which they are less represented. <br>                                                             This rewards people who reach out to people they might not normally work with.\n",
    " \n",
    " **Nationality:** <br>\n",
    " Due to difficulty in working with people from far away, irrationality in close level studies + language barriers (privilege of English       speakers == boosted score), this is hard to quantify.\n",
    " <br>\n",
    " For now I will add it as a bonus factor. Should be a togglable feature. \n",
    " <br>\n",
    " For each unique country add 1 * weight -- weight calculation based on number of authors to keep scale relatively small, this way\n",
    " nationality will not overly outweigh gender in paper-based calculations\n",
    "\n",
    "\n",
    "## Cross-paper features\n",
    " **n times collaborated with** <br>\n",
    " Each paper appearance will cause the affect of their appearance to decrease by __20% across all papers every 3 shared appearances__ <br>\n",
    " Any paper-based calculation dependent on a repeat author will essentialy be reduced 20% for their overall effect to be mitigated. <br>\n",
    " This reduction is used to encourage new collaboration over time. If the same \"diverse group\" continues to meet, the ideas are no longer diverse\n",
    "\n",
    "\n",
    "## Result\n",
    " Calculate each paper individually as gender feature + nationality bonus depend on the # of authors\n",
    " Any author with a degree greater than or equal to three is kept track of in a list\n",
    " \n",
    "## Future paper-based metrics\n",
    " - University Ranking\n",
    " - Departments"
   ]
  },
  {
   "cell_type": "code",
   "execution_count": 26,
   "id": "f862e483-ed04-4a25-a277-053cae073086",
   "metadata": {},
   "outputs": [],
   "source": [
    "def calculateDIndex(author, collabDict, collabGraph, minRepeats = 3, repeatCost = 0.2):\n",
    "    paperFeatureIndices = []\n",
    "    for publication in collabDict.keys():\n",
    "        genderFactor = 1 # for original author\n",
    "        nationalityBonus = 0\n",
    "        nationalityList = []\n",
    "        for collab in collabDict[publication]:\n",
    "            cost = 1 \n",
    "            if collabGraph.degree[collab] >  minRepeats: \n",
    "                cost = (1 - repeatCost)\n",
    "            if author.gender == collab.gender: \n",
    "                genderFactor+=(1*cost)\n",
    "            nationalityList.append(collab.country_code)\n",
    "            nationalityBonus += len(set(nationalityList)) # Get number of unique values TODO: ADD WEIGHT BASED ON NUMBER OF AUTHORS\n",
    "            #print(genderFactor)\n",
    "        genderFactor = round(1/(genderFactor/len(collabDict[publication])))\n",
    "        print(genderFactor)\n",
    "        print(nationalityBonus)\n",
    "        paperFeatureIndices.append(genderFactor + nationalityBonus)\n",
    "\n",
    "    return sum(paperFeatureIndices)/len(paperFeatureIndices) "
   ]
  },
  {
   "cell_type": "code",
   "execution_count": 27,
   "id": "5d0588da-b3b8-4a2b-a6b5-3414aff1c00b",
   "metadata": {},
   "outputs": [
    {
     "name": "stdout",
     "output_type": "stream",
     "text": [
      "1123345821\n",
      "Author: Jake Peralta from New York City, United States(male)\n",
      "Author: Amy Santiago from Havana, Cuba(female)\n",
      "Author: Ray Holt from New York City, United States(male)\n",
      "Author: Rosa  Diaz from Houston, United States(female)\n",
      "\n",
      "3458903457\n",
      "Author: Jake Peralta from New York City, United States(male)\n",
      "Author: Rosa  Diaz from Houston, United States(female)\n",
      "Author: Víctor Doménech-García from Zaragoza, Spain(male)\n",
      "Author: Yutian Ji from Hangzhou, China(male)\n",
      "Author: Qianhui Xu from Shanghai, China(female)\n",
      "Author: Shukun Liu from Singapore, Singapore(female)\n",
      "Author: Yuanshi Wang from Sheffield, United Kingdom(female)\n",
      "\n"
     ]
    }
   ],
   "source": [
    "count = 0\n",
    "keys = x.keys()\n",
    "for publication in keys:\n",
    "    print(publication)\n",
    "    for author in x[publication]: \n",
    "        author.display()\n",
    "    count+=1\n",
    "    print()"
   ]
  },
  {
   "cell_type": "code",
   "execution_count": 28,
   "id": "ebbc321a-d11b-42cf-99d5-4e6a2e74b6bf",
   "metadata": {},
   "outputs": [
    {
     "name": "stdout",
     "output_type": "stream",
     "text": [
      "1\n",
      "7\n",
      "2\n",
      "19\n"
     ]
    }
   ],
   "source": [
    "index = calculateDIndex(authorList[4], x, G, minRepeats=1) # Calculate index for one author "
   ]
  },
  {
   "cell_type": "code",
   "execution_count": 29,
   "id": "d9b48624-2cc7-41f8-8952-163248690727",
   "metadata": {},
   "outputs": [
    {
     "name": "stdout",
     "output_type": "stream",
     "text": [
      "14.5\n"
     ]
    }
   ],
   "source": [
    "print(index)"
   ]
  },
  {
   "cell_type": "code",
   "execution_count": null,
   "id": "9a1877b8-2089-4195-ba7f-93f0507d51a6",
   "metadata": {},
   "outputs": [],
   "source": []
  }
 ],
 "metadata": {
  "kernelspec": {
   "display_name": "Python 3 (ipykernel)",
   "language": "python",
   "name": "python3"
  },
  "language_info": {
   "codemirror_mode": {
    "name": "ipython",
    "version": 3
   },
   "file_extension": ".py",
   "mimetype": "text/x-python",
   "name": "python",
   "nbconvert_exporter": "python",
   "pygments_lexer": "ipython3",
   "version": "3.11.7"
  }
 },
 "nbformat": 4,
 "nbformat_minor": 5
}
